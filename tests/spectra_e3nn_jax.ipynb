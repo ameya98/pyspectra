{
 "cells": [
  {
   "cell_type": "code",
   "execution_count": 19,
   "metadata": {},
   "outputs": [],
   "source": [
    "import e3nn_jax as e3nn\n",
    "import jax\n",
    "import optax\n",
    "import jax.numpy as jnp"
   ]
  },
  {
   "cell_type": "code",
   "execution_count": 20,
   "metadata": {},
   "outputs": [],
   "source": [
    "def powerspectrum(x: e3nn.IrrepsArray) -> e3nn.IrrepsArray:\n",
    "    \"\"\"\n",
    "    Computes the power spectrum given an array of irreps.\n",
    "\n",
    "    Parameters:\n",
    "        x (e3nn.IrrepsArray): Input array of irreducible representations.\n",
    "\n",
    "    Returns:\n",
    "        e3nn.IrrepsArray: The power spectrum of the input array.\n",
    "    \"\"\"\n",
    "    rtp = e3nn.reduced_symmetric_tensor_product_basis(x.irreps, 2, keep_ir=['0o', '0e'])\n",
    "    return e3nn.IrrepsArray(rtp.irreps, jnp.einsum(\"i,j,ijz->z\", x.array, x.array, rtp.array)).array\n",
    "\n",
    "\n",
    "def bispectrum(x: e3nn.IrrepsArray) -> e3nn.IrrepsArray:\n",
    "    \"\"\"\n",
    "    Computes the bispectrum given an array of irreps.\n",
    "\n",
    "    Parameters:\n",
    "        x (e3nn.IrrepsArray): Input array of irreps.\n",
    "\n",
    "    Returns:\n",
    "        e3nn.IrrepsArray: The bispectrum of the input array.\n",
    "    \"\"\"\n",
    "    rtp = e3nn.reduced_symmetric_tensor_product_basis(x.irreps, 3, keep_ir=['0o', '0e'])\n",
    "    return e3nn.IrrepsArray(rtp.irreps, jnp.einsum(\"i,j,k,ijkz->z\", x.array, x.array, x.array, rtp.array)).array\n",
    "\n",
    "\n",
    "def trispectrum(x: e3nn.IrrepsArray) -> e3nn.IrrepsArray:\n",
    "    \"\"\"\n",
    "    Computes the trispectrum given an array of irreps.\n",
    "\n",
    "    Parameters:\n",
    "        x (e3nn.IrrepsArray): Input array of irreps.\n",
    "\n",
    "    Returns:\n",
    "        e3nn.IrrepsArray: The trispectrum of the input array.\n",
    "    \"\"\"\n",
    "    rtp = e3nn.reduced_symmetric_tensor_product_basis(x.irreps, 4, keep_ir=['0o', '0e'])\n",
    "    return e3nn.IrrepsArray(rtp.irreps, jnp.einsum(\"i,j,k,l,ijklz->z\", x.array, x.array, x.array, x.array, rtp.array)).array\n",
    "\n",
    "\n",
    "def with_peaks_at(vectors, lmax):\n",
    "    \"\"\"\n",
    "    Compute a spherical harmonics expansion given Dirac delta functions defined on the sphere.\n",
    "\n",
    "    Parameters:\n",
    "        vectors (jnp.ndarray): An array of vectors. Each row represents a vector.\n",
    "        lmax (int): The maximum degree of the spherical harmonics expansion.\n",
    "\n",
    "    Returns:\n",
    "        e3nn.IrrepsArray: An array representing the weighted sum of the spherical harmonics expansion.\n",
    "    \"\"\"\n",
    "    values = jnp.linalg.norm(vectors, axis=1)\n",
    "\n",
    "    mask = values != 0\n",
    "    vectors = jnp.where(mask[:, None], vectors, 0)\n",
    "    values = jnp.where(mask, values, 0)\n",
    " \n",
    "    coeff_list = [e3nn.spherical_harmonics(i, e3nn.IrrepsArray(\"1o\", vectors), normalize=True).array for i in range(lmax + 1)]\n",
    "    coeff = jnp.concatenate(coeff_list, axis=1)\n",
    "    \n",
    "    A = jnp.einsum(\n",
    "        \"ai,bi->ab\",\n",
    "        coeff,\n",
    "        coeff\n",
    "    )\n",
    "    solution = jnp.array(jnp.linalg.lstsq(A, values)[0])  \n",
    "    \n",
    "    assert jnp.max(jnp.abs(values - A @ solution)) < 1e-5 * jnp.max(jnp.abs(values))\n",
    "\n",
    "    sh_expansion = solution @ coeff\n",
    "    \n",
    "    irreps = e3nn.s2_irreps(lmax)\n",
    "    \n",
    "    return e3nn.IrrepsArray(irreps, sh_expansion)"
   ]
  },
  {
   "cell_type": "code",
   "execution_count": 21,
   "metadata": {},
   "outputs": [],
   "source": [
    "true_geometry = jnp.array([\n",
    "    [1, 0, 0],\n",
    "    [-0.5, jnp.sqrt(3)/2, 0],\n",
    "    [-0.5, -jnp.sqrt(3)/2, 0]\n",
    "])"
   ]
  },
  {
   "cell_type": "code",
   "execution_count": 22,
   "metadata": {},
   "outputs": [
    {
     "data": {
      "text/plain": [
       "Array([ 2.0354760e-03,  5.7810184e-17,  1.9708409e-03,  5.8298265e-03,\n",
       "        1.4873402e-03,  2.0438986e-17,  1.1122715e-16,  1.6390467e-16,\n",
       "       -6.8000465e-04,  1.1851409e-03,  4.2073145e-03, -8.4749062e-04,\n",
       "        1.3982885e-03,  3.8863564e-04,  0.0000000e+00], dtype=float32)"
      ]
     },
     "execution_count": 22,
     "metadata": {},
     "output_type": "execute_result"
    }
   ],
   "source": [
    "test_signal = with_peaks_at(true_geometry, lmax=4)\n",
    "bispectrum(test_signal)"
   ]
  }
 ],
 "metadata": {
  "kernelspec": {
   "display_name": "Python 3 (ipykernel)",
   "language": "python",
   "name": "python3"
  },
  "language_info": {
   "codemirror_mode": {
    "name": "ipython",
    "version": 3
   },
   "file_extension": ".py",
   "mimetype": "text/x-python",
   "name": "python",
   "nbconvert_exporter": "python",
   "pygments_lexer": "ipython3",
   "version": "3.8.18"
  },
  "orig_nbformat": 4
 },
 "nbformat": 4,
 "nbformat_minor": 2
}
