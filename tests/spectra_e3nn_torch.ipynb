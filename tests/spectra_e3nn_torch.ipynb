{
 "cells": [
  {
   "cell_type": "code",
   "execution_count": 20,
   "metadata": {},
   "outputs": [],
   "source": [
    "import e3nn\n",
    "from e3nn import io, o3\n",
    "import torch\n",
    "import numpy as np"
   ]
  },
  {
   "cell_type": "code",
   "execution_count": 21,
   "metadata": {},
   "outputs": [
    {
     "name": "stderr",
     "output_type": "stream",
     "text": [
      "/Users/tphung/miniconda3/envs/py38/lib/python3.8/site-packages/torch/jit/_check.py:172: UserWarning: The TorchScript type system doesn't support instance-level annotations on empty non-base types in `__init__`. Instead, either 1) use a type annotation in the class body, or 2) wrap the type in `torch.jit.Attribute`.\n",
      "  warnings.warn(\"The TorchScript type system doesn't support \"\n"
     ]
    }
   ],
   "source": [
    "def spectra_functions(lmax):\n",
    "    \"\"\"\n",
    "    This function generates the spectra functions for a given lmax.\n",
    "\n",
    "    Parameters:\n",
    "    lmax (int): The maximum degree of the spherical harmonics.\n",
    "\n",
    "    Returns:\n",
    "    sph: SphericalTensor object.\n",
    "    powerspectrum: Function for calculating the power spectrum.\n",
    "    bispectrum: Function for calculating the bispectrum.\n",
    "    \"\"\"\n",
    "    \n",
    "    sph = io.SphericalTensor(lmax, p_val=1, p_arg=-1)\n",
    "\n",
    "    powerspectrum_main = o3.ReducedTensorProducts(\n",
    "        'ij=ji', i=sph, \n",
    "        filter_ir_out=['0e', '0o'])\n",
    "    powerspectrum = lambda x : powerspectrum_main(x, x)\n",
    "\n",
    "\n",
    "    bispectrum_main = o3.ReducedTensorProducts(\n",
    "        'ijk=jik=ikj', i=sph, \n",
    "        filter_ir_mid=list(o3.Irrep.iterator(lmax)), \n",
    "        filter_ir_out=['0e', '0o'])\n",
    "    bispectrum = lambda x : bispectrum_main(x, x, x)\n",
    "    \n",
    "    return sph, powerspectrum, bispectrum\n",
    "\n",
    "lmax = 4\n",
    "sph, powerspectrum, bispectrum = spectra_functions(lmax)"
   ]
  },
  {
   "cell_type": "code",
   "execution_count": 22,
   "metadata": {},
   "outputs": [],
   "source": [
    "test_geometry = torch.tensor([\n",
    "    [1, 0, 0],\n",
    "    [-0.5, np.sqrt(3)/2, 0],\n",
    "    [-0.5, -np.sqrt(3)/2, 0]\n",
    "], dtype=torch.float)"
   ]
  },
  {
   "cell_type": "code",
   "execution_count": 23,
   "metadata": {},
   "outputs": [
    {
     "data": {
      "text/plain": [
       "tensor([ 0.0000e+00,  9.0674e-02,  4.9877e-16,  8.7794e-02,  2.5970e-01,\n",
       "         6.6256e-02,  1.7634e-16,  1.4285e-15,  1.1986e-15, -3.0292e-02,\n",
       "         5.2794e-02,  1.8742e-01, -3.7753e-02,  6.2289e-02,  1.7312e-02])"
      ]
     },
     "execution_count": 23,
     "metadata": {},
     "output_type": "execute_result"
    }
   ],
   "source": [
    "test_signal = sph.with_peaks_at(test_geometry)\n",
    "bispectrum(test_signal)"
   ]
  }
 ],
 "metadata": {
  "kernelspec": {
   "display_name": "Python 3 (ipykernel)",
   "language": "python",
   "name": "python3"
  },
  "language_info": {
   "codemirror_mode": {
    "name": "ipython",
    "version": 3
   },
   "file_extension": ".py",
   "mimetype": "text/x-python",
   "name": "python",
   "nbconvert_exporter": "python",
   "pygments_lexer": "ipython3",
   "version": "3.8.18"
  },
  "orig_nbformat": 4
 },
 "nbformat": 4,
 "nbformat_minor": 2
}
